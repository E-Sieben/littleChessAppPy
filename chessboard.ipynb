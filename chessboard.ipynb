{
 "cells": [
  {
   "cell_type": "code",
   "execution_count": 14,
   "metadata": {},
   "outputs": [
    {
     "name": "stdout",
     "output_type": "stream",
     "text": [
      "White won 0 times \n",
      "Black won 0 \n",
      "The Game tied 1000 times\n"
     ]
    }
   ],
   "source": [
    "import chess\n",
    "from bots import BogoBot\n",
    "\n",
    "board = chess.Board()\n",
    "turns = 0\n",
    "whiteWins = 0\n",
    "blackWins = 0\n",
    "ties= 0\n",
    "for i in range(1000):\n",
    "    # ? Game\n",
    "    while not board.is_stalemate() and not board.is_insufficient_material() and turns < 1000 and len(list(board.legal_moves)) > 0:\n",
    "        move = BogoBot.move(board)\n",
    "        board.push_uci(move)\n",
    "        move = BogoBot.move(board)\n",
    "        board.push_uci(move)\n",
    "        turns += 1\n",
    "    # ? Eval\n",
    "    try:\n",
    "        outcome = board.outcome().winner\n",
    "        if outcome == True:\n",
    "            whiteWins =+ 1\n",
    "        elif outcome == False:\n",
    "            blackWins += 1\n",
    "        else:\n",
    "            ties += 1\n",
    "    except:\n",
    "        outcome = None\n",
    "    board.clear()\n",
    "print(f\"White won {whiteWins} times \\nBlack won {blackWins} \\nThe Game tied {ties} times\")"
   ]
  }
 ],
 "metadata": {
  "kernelspec": {
   "display_name": "Python 3",
   "language": "python",
   "name": "python3"
  },
  "language_info": {
   "codemirror_mode": {
    "name": "ipython",
    "version": 3
   },
   "file_extension": ".py",
   "mimetype": "text/x-python",
   "name": "python",
   "nbconvert_exporter": "python",
   "pygments_lexer": "ipython3",
   "version": "3.13.0"
  }
 },
 "nbformat": 4,
 "nbformat_minor": 2
}
